# Load the Drive helper and mount
from google.colab import drive

# This will prompt for authorization.
drive.mount('/content/drive')


pip install opencv-python
pip install torch torchvision torchaudio --extra-index-url https://download.pytorch.org/whl/cpu
pip install easyocr


import cv2
import easyocr

reader = easyocr.Reader(['en'])
print(reader.readtext('/content/drive/My Drive/Colab Notebooks/11.jpg'))
